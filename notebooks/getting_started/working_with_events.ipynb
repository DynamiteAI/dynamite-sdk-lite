{
 "cells": [
  {
   "cell_type": "markdown",
   "metadata": {},
   "source": [
    "### Performing a basic search\n",
    "\n",
    "Almost every single document stored in ElasticSearch can be converted to an `events.Event` object.\n",
    "\n",
    "More specifically, `events.Event` will work with the following index pattern: `*event*`."
   ]
  },
  {
   "cell_type": "markdown",
   "metadata": {},
   "source": [
    "#### Start with importing some required libraries."
   ]
  },
  {
   "cell_type": "code",
   "execution_count": 12,
   "metadata": {},
   "outputs": [],
   "source": [
    "from datetime import datetime, timedelta\n",
    "\n",
    "from dynamite_sdk.search import Search\n",
    "\n",
    "try:\n",
    "    dynamite_sdk.config.read('/etc/dynamite/dynamite_sdk/config.cfg')\n",
    "except FileNotFoundError:\n",
    "    print('Could not locate configuration at /etc/dynamite/dynamite_sdk/config.cfg. Please create it.')"
   ]
  },
  {
   "cell_type": "markdown",
   "metadata": {},
   "source": [
    "#### Instantiate our `search.Search` interface to search all Zeek indices with `'*events*'`."
   ]
  },
  {
   "cell_type": "code",
   "execution_count": 13,
   "metadata": {},
   "outputs": [],
   "source": [
    "search = Search('events')\n"
   ]
  },
  {
   "cell_type": "markdown",
   "metadata": {},
   "source": [
    "#### Set our initial search window to a 1 minute timeframe."
   ]
  },
  {
   "cell_type": "code",
   "execution_count": 14,
   "metadata": {},
   "outputs": [],
   "source": [
    "start = datetime.now() - timedelta(minutes=1)\n",
    "end = datetime.now()"
   ]
  },
  {
   "cell_type": "markdown",
   "metadata": {},
   "source": [
    "#### Execute our time windowed query."
   ]
  },
  {
   "cell_type": "code",
   "execution_count": 22,
   "metadata": {},
   "outputs": [],
   "source": [
    "search.execute_query(start, end)"
   ]
  },
  {
   "cell_type": "markdown",
   "metadata": {},
   "source": [
    "#### Iterate through the results."
   ]
  },
  {
   "cell_type": "code",
   "execution_count": 16,
   "metadata": {},
   "outputs": [
    {
     "name": "stdout",
     "output_type": "stream",
     "text": [
      "[zeek][conn][2019-10-31 14:41:23.185000+00:00]192.168.53.158:52119 -> 169.254.169.123:123\n",
      "[zeek][ssh][2019-10-31 14:41:14.184000+00:00]218.92.0.171:30556 -> 192.168.53.158:22\n",
      "[zeek][conn][2019-10-31 14:41:13.974000+00:00]218.92.0.171:30556 -> 192.168.53.158:22\n",
      "[zeek][conn][2019-10-31 14:41:11.800000+00:00]79.158.108.108:53248 -> 192.168.53.158:22\n",
      "[zeek][conn][2019-10-31 14:41:06.973000+00:00]192.168.53.158:35523 -> 169.254.169.123:123\n",
      "[zeek][conn][2019-10-31 14:40:50.796000+00:00]192.168.53.158:39734 -> 169.254.169.123:123\n",
      "[zeek][conn][2019-10-31 14:40:48.253000+00:00]192.168.53.158:49282 -> 171.66.97.126:123\n",
      "[zeek][conn][2019-10-31 14:40:36.682000+00:00]185.176.27.110:40971 -> 192.168.53.158:3481\n",
      "[zeek][conn][2019-10-31 14:40:35.800000+00:00]80.82.77.132:47655 -> 192.168.53.158:1122\n",
      "[zeek][conn][2019-10-31 14:40:34.897000+00:00]142.11.214.46:17087 -> 192.168.53.158:523\n",
      "[zeek][conn][2019-10-31 14:40:34.690000+00:00]192.168.53.158:59172 -> 169.254.169.123:123\n",
      "[zeek][conn][2019-10-31 14:40:31.801000+00:00]184.105.139.122:40499 -> 192.168.53.158:50070\n",
      "[zeek][conn][2019-10-31 14:40:30.860000+00:00]153.36.236.246:52869 -> 192.168.53.158:8888\n"
     ]
    }
   ],
   "source": [
    "for event in search.results:\n",
    "    print(str(event))"
   ]
  },
  {
   "cell_type": "markdown",
   "metadata": {},
   "source": [
    "#### Alternatively, events can be retrieved as a dataframe."
   ]
  },
  {
   "cell_type": "code",
   "execution_count": 17,
   "metadata": {},
   "outputs": [],
   "source": [
    "search = Search('events', as_dataframe=True)"
   ]
  },
  {
   "cell_type": "code",
   "execution_count": 18,
   "metadata": {},
   "outputs": [],
   "source": [
    "start = datetime.now() - timedelta(minutes=1)\n",
    "end = datetime.now()"
   ]
  },
  {
   "cell_type": "code",
   "execution_count": 19,
   "metadata": {},
   "outputs": [],
   "source": [
    "search.execute_query(start, end)"
   ]
  },
  {
   "cell_type": "code",
   "execution_count": 20,
   "metadata": {},
   "outputs": [
    {
     "data": {
      "text/html": [
       "<div>\n",
       "<style scoped>\n",
       "    .dataframe tbody tr th:only-of-type {\n",
       "        vertical-align: middle;\n",
       "    }\n",
       "\n",
       "    .dataframe tbody tr th {\n",
       "        vertical-align: top;\n",
       "    }\n",
       "\n",
       "    .dataframe thead th {\n",
       "        text-align: right;\n",
       "    }\n",
       "</style>\n",
       "<table border=\"1\" class=\"dataframe\">\n",
       "  <thead>\n",
       "    <tr style=\"text-align: right;\">\n",
       "      <th></th>\n",
       "      <th>event_type</th>\n",
       "      <th>event_time</th>\n",
       "      <th>source_ip_address</th>\n",
       "      <th>destination_ip_address</th>\n",
       "      <th>source_port</th>\n",
       "      <th>destination_port</th>\n",
       "      <th>elasticsearch_index</th>\n",
       "      <th>originating_agent_tag</th>\n",
       "      <th>forwarder_type</th>\n",
       "      <th>node_ip_address</th>\n",
       "      <th>node_hostname</th>\n",
       "    </tr>\n",
       "  </thead>\n",
       "  <tbody>\n",
       "    <tr>\n",
       "      <th>0</th>\n",
       "      <td>conn</td>\n",
       "      <td>2019-10-31 14:41:23.185000+00:00</td>\n",
       "      <td>192.168.53.158</td>\n",
       "      <td>169.254.169.123</td>\n",
       "      <td>52119</td>\n",
       "      <td>123</td>\n",
       "      <td>event-flows-2019.10.31</td>\n",
       "      <td>honeypot01</td>\n",
       "      <td>zeek</td>\n",
       "      <td>192.168.53.158</td>\n",
       "      <td>ip-192-168-53-158.us-west-2.compute.internal</td>\n",
       "    </tr>\n",
       "    <tr>\n",
       "      <th>1</th>\n",
       "      <td>ssh</td>\n",
       "      <td>2019-10-31 14:41:14.184000+00:00</td>\n",
       "      <td>218.92.0.171</td>\n",
       "      <td>192.168.53.158</td>\n",
       "      <td>30556</td>\n",
       "      <td>22</td>\n",
       "      <td>ssh-events-2019.10.31</td>\n",
       "      <td>honeypot01</td>\n",
       "      <td>zeek</td>\n",
       "      <td>192.168.53.158</td>\n",
       "      <td>ip-192-168-53-158.us-west-2.compute.internal</td>\n",
       "    </tr>\n",
       "    <tr>\n",
       "      <th>2</th>\n",
       "      <td>conn</td>\n",
       "      <td>2019-10-31 14:41:13.974000+00:00</td>\n",
       "      <td>218.92.0.171</td>\n",
       "      <td>192.168.53.158</td>\n",
       "      <td>30556</td>\n",
       "      <td>22</td>\n",
       "      <td>event-flows-2019.10.31</td>\n",
       "      <td>honeypot01</td>\n",
       "      <td>zeek</td>\n",
       "      <td>192.168.53.158</td>\n",
       "      <td>ip-192-168-53-158.us-west-2.compute.internal</td>\n",
       "    </tr>\n",
       "    <tr>\n",
       "      <th>3</th>\n",
       "      <td>conn</td>\n",
       "      <td>2019-10-31 14:41:11.800000+00:00</td>\n",
       "      <td>79.158.108.108</td>\n",
       "      <td>192.168.53.158</td>\n",
       "      <td>53248</td>\n",
       "      <td>22</td>\n",
       "      <td>event-flows-2019.10.31</td>\n",
       "      <td>honeypot01</td>\n",
       "      <td>zeek</td>\n",
       "      <td>192.168.53.158</td>\n",
       "      <td>ip-192-168-53-158.us-west-2.compute.internal</td>\n",
       "    </tr>\n",
       "    <tr>\n",
       "      <th>4</th>\n",
       "      <td>conn</td>\n",
       "      <td>2019-10-31 14:41:06.973000+00:00</td>\n",
       "      <td>192.168.53.158</td>\n",
       "      <td>169.254.169.123</td>\n",
       "      <td>35523</td>\n",
       "      <td>123</td>\n",
       "      <td>event-flows-2019.10.31</td>\n",
       "      <td>honeypot01</td>\n",
       "      <td>zeek</td>\n",
       "      <td>192.168.53.158</td>\n",
       "      <td>ip-192-168-53-158.us-west-2.compute.internal</td>\n",
       "    </tr>\n",
       "    <tr>\n",
       "      <th>5</th>\n",
       "      <td>conn</td>\n",
       "      <td>2019-10-31 14:40:50.796000+00:00</td>\n",
       "      <td>192.168.53.158</td>\n",
       "      <td>169.254.169.123</td>\n",
       "      <td>39734</td>\n",
       "      <td>123</td>\n",
       "      <td>event-flows-2019.10.31</td>\n",
       "      <td>honeypot01</td>\n",
       "      <td>zeek</td>\n",
       "      <td>192.168.53.158</td>\n",
       "      <td>ip-192-168-53-158.us-west-2.compute.internal</td>\n",
       "    </tr>\n",
       "    <tr>\n",
       "      <th>6</th>\n",
       "      <td>conn</td>\n",
       "      <td>2019-10-31 14:40:48.253000+00:00</td>\n",
       "      <td>192.168.53.158</td>\n",
       "      <td>171.66.97.126</td>\n",
       "      <td>49282</td>\n",
       "      <td>123</td>\n",
       "      <td>event-flows-2019.10.31</td>\n",
       "      <td>honeypot01</td>\n",
       "      <td>zeek</td>\n",
       "      <td>192.168.53.158</td>\n",
       "      <td>ip-192-168-53-158.us-west-2.compute.internal</td>\n",
       "    </tr>\n",
       "    <tr>\n",
       "      <th>7</th>\n",
       "      <td>conn</td>\n",
       "      <td>2019-10-31 14:40:36.682000+00:00</td>\n",
       "      <td>185.176.27.110</td>\n",
       "      <td>192.168.53.158</td>\n",
       "      <td>40971</td>\n",
       "      <td>3481</td>\n",
       "      <td>event-flows-2019.10.31</td>\n",
       "      <td>honeypot01</td>\n",
       "      <td>zeek</td>\n",
       "      <td>192.168.53.158</td>\n",
       "      <td>ip-192-168-53-158.us-west-2.compute.internal</td>\n",
       "    </tr>\n",
       "    <tr>\n",
       "      <th>8</th>\n",
       "      <td>conn</td>\n",
       "      <td>2019-10-31 14:40:35.800000+00:00</td>\n",
       "      <td>80.82.77.132</td>\n",
       "      <td>192.168.53.158</td>\n",
       "      <td>47655</td>\n",
       "      <td>1122</td>\n",
       "      <td>event-flows-2019.10.31</td>\n",
       "      <td>honeypot01</td>\n",
       "      <td>zeek</td>\n",
       "      <td>192.168.53.158</td>\n",
       "      <td>ip-192-168-53-158.us-west-2.compute.internal</td>\n",
       "    </tr>\n",
       "    <tr>\n",
       "      <th>9</th>\n",
       "      <td>conn</td>\n",
       "      <td>2019-10-31 14:40:34.897000+00:00</td>\n",
       "      <td>142.11.214.46</td>\n",
       "      <td>192.168.53.158</td>\n",
       "      <td>17087</td>\n",
       "      <td>523</td>\n",
       "      <td>event-flows-2019.10.31</td>\n",
       "      <td>honeypot01</td>\n",
       "      <td>zeek</td>\n",
       "      <td>192.168.53.158</td>\n",
       "      <td>ip-192-168-53-158.us-west-2.compute.internal</td>\n",
       "    </tr>\n",
       "    <tr>\n",
       "      <th>10</th>\n",
       "      <td>conn</td>\n",
       "      <td>2019-10-31 14:40:34.690000+00:00</td>\n",
       "      <td>192.168.53.158</td>\n",
       "      <td>169.254.169.123</td>\n",
       "      <td>59172</td>\n",
       "      <td>123</td>\n",
       "      <td>event-flows-2019.10.31</td>\n",
       "      <td>honeypot01</td>\n",
       "      <td>zeek</td>\n",
       "      <td>192.168.53.158</td>\n",
       "      <td>ip-192-168-53-158.us-west-2.compute.internal</td>\n",
       "    </tr>\n",
       "  </tbody>\n",
       "</table>\n",
       "</div>"
      ],
      "text/plain": [
       "   event_type                       event_time source_ip_address  \\\n",
       "0        conn 2019-10-31 14:41:23.185000+00:00    192.168.53.158   \n",
       "1         ssh 2019-10-31 14:41:14.184000+00:00      218.92.0.171   \n",
       "2        conn 2019-10-31 14:41:13.974000+00:00      218.92.0.171   \n",
       "3        conn 2019-10-31 14:41:11.800000+00:00    79.158.108.108   \n",
       "4        conn 2019-10-31 14:41:06.973000+00:00    192.168.53.158   \n",
       "5        conn 2019-10-31 14:40:50.796000+00:00    192.168.53.158   \n",
       "6        conn 2019-10-31 14:40:48.253000+00:00    192.168.53.158   \n",
       "7        conn 2019-10-31 14:40:36.682000+00:00    185.176.27.110   \n",
       "8        conn 2019-10-31 14:40:35.800000+00:00      80.82.77.132   \n",
       "9        conn 2019-10-31 14:40:34.897000+00:00     142.11.214.46   \n",
       "10       conn 2019-10-31 14:40:34.690000+00:00    192.168.53.158   \n",
       "\n",
       "   destination_ip_address  source_port  destination_port  \\\n",
       "0         169.254.169.123        52119               123   \n",
       "1          192.168.53.158        30556                22   \n",
       "2          192.168.53.158        30556                22   \n",
       "3          192.168.53.158        53248                22   \n",
       "4         169.254.169.123        35523               123   \n",
       "5         169.254.169.123        39734               123   \n",
       "6           171.66.97.126        49282               123   \n",
       "7          192.168.53.158        40971              3481   \n",
       "8          192.168.53.158        47655              1122   \n",
       "9          192.168.53.158        17087               523   \n",
       "10        169.254.169.123        59172               123   \n",
       "\n",
       "       elasticsearch_index originating_agent_tag forwarder_type  \\\n",
       "0   event-flows-2019.10.31            honeypot01           zeek   \n",
       "1    ssh-events-2019.10.31            honeypot01           zeek   \n",
       "2   event-flows-2019.10.31            honeypot01           zeek   \n",
       "3   event-flows-2019.10.31            honeypot01           zeek   \n",
       "4   event-flows-2019.10.31            honeypot01           zeek   \n",
       "5   event-flows-2019.10.31            honeypot01           zeek   \n",
       "6   event-flows-2019.10.31            honeypot01           zeek   \n",
       "7   event-flows-2019.10.31            honeypot01           zeek   \n",
       "8   event-flows-2019.10.31            honeypot01           zeek   \n",
       "9   event-flows-2019.10.31            honeypot01           zeek   \n",
       "10  event-flows-2019.10.31            honeypot01           zeek   \n",
       "\n",
       "   node_ip_address                                 node_hostname  \n",
       "0   192.168.53.158  ip-192-168-53-158.us-west-2.compute.internal  \n",
       "1   192.168.53.158  ip-192-168-53-158.us-west-2.compute.internal  \n",
       "2   192.168.53.158  ip-192-168-53-158.us-west-2.compute.internal  \n",
       "3   192.168.53.158  ip-192-168-53-158.us-west-2.compute.internal  \n",
       "4   192.168.53.158  ip-192-168-53-158.us-west-2.compute.internal  \n",
       "5   192.168.53.158  ip-192-168-53-158.us-west-2.compute.internal  \n",
       "6   192.168.53.158  ip-192-168-53-158.us-west-2.compute.internal  \n",
       "7   192.168.53.158  ip-192-168-53-158.us-west-2.compute.internal  \n",
       "8   192.168.53.158  ip-192-168-53-158.us-west-2.compute.internal  \n",
       "9   192.168.53.158  ip-192-168-53-158.us-west-2.compute.internal  \n",
       "10  192.168.53.158  ip-192-168-53-158.us-west-2.compute.internal  "
      ]
     },
     "execution_count": 20,
     "metadata": {},
     "output_type": "execute_result"
    }
   ],
   "source": [
    "search.results"
   ]
  },
  {
   "cell_type": "code",
   "execution_count": null,
   "metadata": {},
   "outputs": [],
   "source": []
  }
 ],
 "metadata": {
  "kernelspec": {
   "display_name": "Python 3",
   "language": "python",
   "name": "python3"
  },
  "language_info": {
   "codemirror_mode": {
    "name": "ipython",
    "version": 3
   },
   "file_extension": ".py",
   "mimetype": "text/x-python",
   "name": "python",
   "nbconvert_exporter": "python",
   "pygments_lexer": "ipython3",
   "version": "3.6.0"
  }
 },
 "nbformat": 4,
 "nbformat_minor": 1
}

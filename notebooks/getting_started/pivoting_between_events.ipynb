{
 "cells": [
  {
   "cell_type": "markdown",
   "metadata": {},
   "source": [
    "### Pivoting between Logs\n",
    "\n",
    "Pivots provide a mechanism for going from a conn.log based event to the corresponding network log events, and vice-versa."
   ]
  },
  {
   "cell_type": "code",
   "execution_count": 1,
   "metadata": {},
   "outputs": [],
   "source": [
    "from datetime import datetime, timedelta\n",
    "\n",
    "from dynamite_sdk.search import Search\n",
    "from dynamite_sdk.search import ConnectionEventToNetworkEventsPivot, NetworkEventToConnectionEventPivot"
   ]
  },
  {
   "cell_type": "code",
   "execution_count": 2,
   "metadata": {},
   "outputs": [],
   "source": [
    "start = datetime.now() - timedelta(minutes=60)\n",
    "end = datetime.now()"
   ]
  },
  {
   "cell_type": "markdown",
   "metadata": {},
   "source": [
    "#### Find the corresponding HTTP logs (`http.log`) corresponding to a set of HTTP connection events (`conn.log`)"
   ]
  },
  {
   "cell_type": "code",
   "execution_count": 3,
   "metadata": {},
   "outputs": [],
   "source": [
    "search = Search('conn', as_dataframe=False)"
   ]
  },
  {
   "cell_type": "code",
   "execution_count": 4,
   "metadata": {},
   "outputs": [],
   "source": [
    "search.execute_query(start, end, search_filter='zeek.service: http')"
   ]
  },
  {
   "cell_type": "markdown",
   "metadata": {},
   "source": [
    "#### Iterate through each of the matching `conn.log` entries, and locate their corresponding network protocol logs.\n",
    "\n",
    "Since we filtered by HTTP services in this case, corresponding logs will be from `http.log`."
   ]
  },
  {
   "cell_type": "code",
   "execution_count": 5,
   "metadata": {},
   "outputs": [
    {
     "name": "stdout",
     "output_type": "stream",
     "text": [
      "2019-11-01 13:01:44.499000+00:00 GET /latest/meta-data/iam/security-credentials\n",
      "2019-11-01 12:53:10.696000+00:00 GET /latest/meta-data/network/interfaces/macs/02:d6:a8:e0:bb:38/local-ipv4s\n",
      "2019-11-01 12:23:52.956000+00:00 GET /latest/meta-data/network/interfaces/macs/02:d6:a8:e0:bb:38/local-ipv4s\n"
     ]
    }
   ],
   "source": [
    "for conn_event in search.events:\n",
    "    # Setup our Pivot object around a conn.log event\n",
    "    net_log_pivot = ConnectionEventToNetworkEventsPivot(conn_event)\n",
    "    # Execute our pivot\n",
    "    net_log_pivot.execute_pivot()\n",
    "    # There can be multiple network logs for a given conn.log entry, so we must iterate through them\n",
    "    for http_log in net_log_pivot.events:\n",
    "        print(http_log.event_time, http_log.method, http_log.uri)"
   ]
  },
  {
   "cell_type": "markdown",
   "metadata": {},
   "source": [
    "#### Find the corresponding Connections (`conn.log`) corresponding to a set of HTTP logs (`http.log`)"
   ]
  },
  {
   "cell_type": "code",
   "execution_count": 6,
   "metadata": {},
   "outputs": [],
   "source": [
    "search = Search('http', as_dataframe=False)"
   ]
  },
  {
   "cell_type": "code",
   "execution_count": 10,
   "metadata": {},
   "outputs": [],
   "source": [
    "search.execute_query(start, end)"
   ]
  },
  {
   "cell_type": "code",
   "execution_count": 14,
   "metadata": {},
   "outputs": [
    {
     "name": "stdout",
     "output_type": "stream",
     "text": [
      "Cc1FXLB7Ff90OwE41 2019-11-01 13:01:44.499000+00:00 192.168.53.158 169.254.169.254\n",
      "Ce5QS38GBTd9MuDud 2019-11-01 12:53:10.696000+00:00 192.168.53.158 169.254.169.254\n",
      "C8Y4wX2LwuouQOKesa 2019-11-01 12:23:52.955000+00:00 192.168.53.158 169.254.169.254\n"
     ]
    }
   ],
   "source": [
    "for http_event in search.events:\n",
    "    # Setup our Pivot object around an http.log event\n",
    "    conn_log_pivot = NetworkEventToConnectionEventPivot(http_event)\n",
    "    # Execute our pivot\n",
    "    conn_log_pivot.execute_pivot()\n",
    "    # Iterate through results\n",
    "    for conn_log in conn_log_pivot.events:\n",
    "        print(conn_log.uid, conn_log.event_time, conn_log.source_ip_address, conn_log.destination_ip_address)"
   ]
  },
  {
   "cell_type": "code",
   "execution_count": null,
   "metadata": {},
   "outputs": [],
   "source": []
  }
 ],
 "metadata": {
  "kernelspec": {
   "display_name": "Python 3",
   "language": "python",
   "name": "python3"
  },
  "language_info": {
   "codemirror_mode": {
    "name": "ipython",
    "version": 3
   },
   "file_extension": ".py",
   "mimetype": "text/x-python",
   "name": "python",
   "nbconvert_exporter": "python",
   "pygments_lexer": "ipython3",
   "version": "3.6.0"
  }
 },
 "nbformat": 4,
 "nbformat_minor": 2
}

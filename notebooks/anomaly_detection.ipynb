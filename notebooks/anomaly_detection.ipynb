{
 "cells": [
  {
   "cell_type": "code",
   "execution_count": 1,
   "metadata": {},
   "outputs": [],
   "source": [
    "from dynamite_sdk.search import Search\n",
    "from datetime import datetime, timedelta\n",
    "from dynamite_sdk.anomaly_detection.gaussian_anomaly_detector import GaussianAnomalyDetector\n",
    "\n",
    "import pandas as pd\n",
    "import numpy as np\n",
    "from numpy import inf\n",
    "import seaborn as sns\n",
    "import matplotlib.pyplot as plt\n",
    "import math\n",
    "%matplotlib inline"
   ]
  },
  {
   "cell_type": "markdown",
   "metadata": {},
   "source": [
    "## Get the baseline features aggregated at 5 min interval "
   ]
  },
  {
   "cell_type": "code",
   "execution_count": 2,
   "metadata": {},
   "outputs": [
    {
     "data": {
      "text/html": [
       "<div>\n",
       "<style scoped>\n",
       "    .dataframe tbody tr th:only-of-type {\n",
       "        vertical-align: middle;\n",
       "    }\n",
       "\n",
       "    .dataframe tbody tr th {\n",
       "        vertical-align: top;\n",
       "    }\n",
       "\n",
       "    .dataframe thead th {\n",
       "        text-align: right;\n",
       "    }\n",
       "</style>\n",
       "<table border=\"1\" class=\"dataframe\">\n",
       "  <thead>\n",
       "    <tr style=\"text-align: right;\">\n",
       "      <th></th>\n",
       "      <th>elasticsearch_index</th>\n",
       "      <th>originating_agent_tag</th>\n",
       "      <th>forwarder_type</th>\n",
       "      <th>event_type</th>\n",
       "      <th>node_ip_address</th>\n",
       "      <th>node_hostname</th>\n",
       "      <th>address</th>\n",
       "      <th>start_time</th>\n",
       "      <th>end_time</th>\n",
       "      <th>interval_size</th>\n",
       "      <th>...</th>\n",
       "      <th>ssl_server_connection_count</th>\n",
       "      <th>ssl_producer_consumer_ratio_average</th>\n",
       "      <th>ssl_producer_consumer_ratio_max</th>\n",
       "      <th>ssl_producer_consumer_ratio_min</th>\n",
       "      <th>rdp_client_connection_count</th>\n",
       "      <th>rdp_server_connection_count</th>\n",
       "      <th>rdp_producer_consumer_ratio_average</th>\n",
       "      <th>rdp_producer_consumer_ratio_max</th>\n",
       "      <th>rdp_producer_consumer_ratio_min</th>\n",
       "      <th>external_ports</th>\n",
       "    </tr>\n",
       "  </thead>\n",
       "  <tbody>\n",
       "    <tr>\n",
       "      <td>0</td>\n",
       "      <td>zeek-baselines-2019.12.02</td>\n",
       "      <td>honeypot03</td>\n",
       "      <td>zeek</td>\n",
       "      <td>netbase</td>\n",
       "      <td>54.202.227.137</td>\n",
       "      <td>ip-172-31-7-189</td>\n",
       "      <td>172.31.7.189</td>\n",
       "      <td>2019-12-02 18:31:23.399000+00:00</td>\n",
       "      <td>2019-12-02 18:36:24.705000+00:00</td>\n",
       "      <td>00:05:01.306000</td>\n",
       "      <td>...</td>\n",
       "      <td>0</td>\n",
       "      <td>0</td>\n",
       "      <td>0</td>\n",
       "      <td>0</td>\n",
       "      <td>0</td>\n",
       "      <td>0</td>\n",
       "      <td>0</td>\n",
       "      <td>0</td>\n",
       "      <td>0</td>\n",
       "      <td>0</td>\n",
       "    </tr>\n",
       "    <tr>\n",
       "      <td>1</td>\n",
       "      <td>zeek-baselines-2019.12.02</td>\n",
       "      <td>honeypot01</td>\n",
       "      <td>zeek</td>\n",
       "      <td>netbase</td>\n",
       "      <td>192.168.53.158</td>\n",
       "      <td>ip-192-168-53-158.us-west-2.compute.internal</td>\n",
       "      <td>192.168.53.158</td>\n",
       "      <td>2019-12-02 18:30:53.803000+00:00</td>\n",
       "      <td>2019-12-02 18:35:55.628000+00:00</td>\n",
       "      <td>00:05:01.825000</td>\n",
       "      <td>...</td>\n",
       "      <td>0</td>\n",
       "      <td>0</td>\n",
       "      <td>0</td>\n",
       "      <td>0</td>\n",
       "      <td>0</td>\n",
       "      <td>0</td>\n",
       "      <td>0</td>\n",
       "      <td>0</td>\n",
       "      <td>0</td>\n",
       "      <td>0</td>\n",
       "    </tr>\n",
       "  </tbody>\n",
       "</table>\n",
       "<p>2 rows × 63 columns</p>\n",
       "</div>"
      ],
      "text/plain": [
       "         elasticsearch_index originating_agent_tag forwarder_type event_type  \\\n",
       "0  zeek-baselines-2019.12.02            honeypot03           zeek    netbase   \n",
       "1  zeek-baselines-2019.12.02            honeypot01           zeek    netbase   \n",
       "\n",
       "  node_ip_address                                 node_hostname  \\\n",
       "0  54.202.227.137                               ip-172-31-7-189   \n",
       "1  192.168.53.158  ip-192-168-53-158.us-west-2.compute.internal   \n",
       "\n",
       "          address                       start_time  \\\n",
       "0    172.31.7.189 2019-12-02 18:31:23.399000+00:00   \n",
       "1  192.168.53.158 2019-12-02 18:30:53.803000+00:00   \n",
       "\n",
       "                          end_time   interval_size  ...  \\\n",
       "0 2019-12-02 18:36:24.705000+00:00 00:05:01.306000  ...   \n",
       "1 2019-12-02 18:35:55.628000+00:00 00:05:01.825000  ...   \n",
       "\n",
       "   ssl_server_connection_count  ssl_producer_consumer_ratio_average  \\\n",
       "0                            0                                    0   \n",
       "1                            0                                    0   \n",
       "\n",
       "   ssl_producer_consumer_ratio_max  ssl_producer_consumer_ratio_min  \\\n",
       "0                                0                                0   \n",
       "1                                0                                0   \n",
       "\n",
       "   rdp_client_connection_count  rdp_server_connection_count  \\\n",
       "0                            0                            0   \n",
       "1                            0                            0   \n",
       "\n",
       "   rdp_producer_consumer_ratio_average  rdp_producer_consumer_ratio_max  \\\n",
       "0                                    0                                0   \n",
       "1                                    0                                0   \n",
       "\n",
       "   rdp_producer_consumer_ratio_min  external_ports  \n",
       "0                                0               0  \n",
       "1                                0               0  \n",
       "\n",
       "[2 rows x 63 columns]"
      ]
     },
     "execution_count": 2,
     "metadata": {},
     "output_type": "execute_result"
    }
   ],
   "source": [
    "start = datetime.now() - timedelta(minutes=1000)\n",
    "end = datetime.now()\n",
    "\n",
    "search = Search('baselines', as_dataframe=True)\n",
    "search.execute_query(start, end)\n",
    "\n",
    "# for event in search.results:\n",
    "#     print(event)\n",
    "search.results.head(2)"
   ]
  },
  {
   "cell_type": "code",
   "execution_count": 28,
   "metadata": {},
   "outputs": [
    {
     "data": {
      "text/plain": [
       "Index(['elasticsearch_index', 'originating_agent_tag', 'forwarder_type',\n",
       "       'event_type', 'node_ip_address', 'node_hostname', 'address',\n",
       "       'start_time', 'end_time', 'interval_size', 'internal_port_count',\n",
       "       'internal_host_count', 'external_port_count', 'external_host_count',\n",
       "       'internal_client_count', 'external_client_count', 'connection_count',\n",
       "       'originating_connection_count',\n",
       "       'successful_originating_connection_count',\n",
       "       'rejected_originating_connection_count',\n",
       "       'originating_to_highport_count', 'originating_to_lowport_count',\n",
       "       'originating_to_service_count', 'internal_originating_connection_count',\n",
       "       'internal_originating_rejected_connection_count',\n",
       "       'internal_to_highport_count', 'internal_to_lowport_count',\n",
       "       'internal_to_service_count', 'internal_received_connection_count',\n",
       "       'internal_originating_bytes_sent_sum',\n",
       "       'internal_originating_bytes_received_sum',\n",
       "       'external_originating_bytes_sent_sum',\n",
       "       'external_originating_bytes_received_sum',\n",
       "       'internal_originating_packets_sent_count',\n",
       "       'internal_originating_packets_received_count',\n",
       "       'external_originating_packets_sent_count',\n",
       "       'external_originating_packets_received_count',\n",
       "       'smb_client_connection_count', 'smb_server_connection_count',\n",
       "       'smb_producer_consumer_ratio_average',\n",
       "       'smb_producer_consumer_ratio_max', 'smb_producer_consumer_ratio_min',\n",
       "       'http_client_connection_count', 'http_server_connection_count',\n",
       "       'http_producer_consumer_ratio_average',\n",
       "       'http_producer_consumer_ratio_max', 'http_producer_consumer_ratio_min',\n",
       "       'dns_client_connection_count', 'dns_server_connection_count',\n",
       "       'dns_producer_consumer_ratio_average',\n",
       "       'dns_producer_consumer_ratio_max', 'dns_producer_consumer_ratio_min',\n",
       "       'ssl_client_connection_count', 'ssl_server_connection_count',\n",
       "       'ssl_producer_consumer_ratio_average',\n",
       "       'ssl_producer_consumer_ratio_max', 'ssl_producer_consumer_ratio_min',\n",
       "       'rdp_client_connection_count', 'rdp_server_connection_count',\n",
       "       'rdp_producer_consumer_ratio_average',\n",
       "       'rdp_producer_consumer_ratio_max', 'rdp_producer_consumer_ratio_min',\n",
       "       'external_ports'],\n",
       "      dtype='object')"
      ]
     },
     "execution_count": 28,
     "metadata": {},
     "output_type": "execute_result"
    }
   ],
   "source": [
    "search.results.columns"
   ]
  },
  {
   "cell_type": "markdown",
   "metadata": {},
   "source": [
    "\n",
    "### Select aggregated columns to build Anomaly Detection model"
   ]
  },
  {
   "cell_type": "code",
   "execution_count": 4,
   "metadata": {},
   "outputs": [],
   "source": [
    "feature_columns = ['internal_port_count', 'internal_host_count',  'external_port_count',  \n",
    "'external_host_count', 'internal_client_count',  'external_client_count',  'connection_count', \n",
    "                   'originating_connection_count', 'successful_originating_connection_count', \n",
    "                   'rejected_originating_connection_count', 'originating_to_highport_count',  \n",
    "                   'originating_to_lowport_count', 'originating_to_service_count',  \n",
    "                   'internal_originating_connection_count', 'internal_originating_rejected_connection_count', \n",
    "                   'internal_to_highport_count',  'internal_to_lowport_count', 'internal_to_service_count',  \n",
    "                   'internal_received_connection_count', 'internal_originating_bytes_sent_sum', \n",
    "                   'internal_originating_bytes_received_sum', 'external_originating_bytes_sent_sum', \n",
    "                   'external_originating_bytes_received_sum', 'internal_originating_packets_sent_count', \n",
    "                   'internal_originating_packets_received_count', 'external_originating_packets_sent_count', \n",
    "                   'external_originating_packets_received_count', 'smb_client_connection_count',  \n",
    "                   'smb_server_connection_count', 'smb_producer_consumer_ratio_average', \n",
    "                   'smb_producer_consumer_ratio_max',  'smb_producer_consumer_ratio_min', \n",
    "                   'http_client_connection_count',  'http_server_connection_count', \n",
    "                   'http_producer_consumer_ratio_average', 'http_producer_consumer_ratio_max',  \n",
    "                   'http_producer_consumer_ratio_min', 'dns_client_connection_count',  \n",
    "                   'dns_server_connection_count', 'dns_producer_consumer_ratio_average', \n",
    "                   'dns_producer_consumer_ratio_max',  'dns_producer_consumer_ratio_min', \n",
    "                   'ssl_client_connection_count',  'ssl_server_connection_count', \n",
    "                   'ssl_producer_consumer_ratio_average', 'ssl_producer_consumer_ratio_max',  \n",
    "                   'ssl_producer_consumer_ratio_min', 'rdp_client_connection_count',  \n",
    "                   'rdp_server_connection_count', 'rdp_producer_consumer_ratio_average', \n",
    "                   'rdp_producer_consumer_ratio_max',  'rdp_producer_consumer_ratio_min']\n",
    "features = search.results[feature_columns]"
   ]
  },
  {
   "cell_type": "code",
   "execution_count": 5,
   "metadata": {},
   "outputs": [],
   "source": [
    "# remove columns that have constant values\n",
    "# Column with constant values do add value to model and gives invalid results.\n",
    "train = features.loc[:,features.apply(pd.Series.nunique) != 1]"
   ]
  },
  {
   "cell_type": "code",
   "execution_count": 6,
   "metadata": {},
   "outputs": [
    {
     "data": {
      "text/plain": [
       "Index(['internal_port_count', 'internal_host_count', 'external_port_count',\n",
       "       'external_host_count', 'internal_client_count', 'external_client_count',\n",
       "       'connection_count', 'successful_originating_connection_count',\n",
       "       'originating_to_lowport_count', 'originating_to_service_count',\n",
       "       'internal_originating_connection_count', 'internal_to_lowport_count',\n",
       "       'internal_to_service_count', 'internal_received_connection_count',\n",
       "       'internal_originating_bytes_sent_sum',\n",
       "       'internal_originating_bytes_received_sum',\n",
       "       'external_originating_bytes_sent_sum',\n",
       "       'external_originating_bytes_received_sum',\n",
       "       'internal_originating_packets_sent_count',\n",
       "       'internal_originating_packets_received_count',\n",
       "       'external_originating_packets_sent_count',\n",
       "       'external_originating_packets_received_count',\n",
       "       'http_client_connection_count', 'http_producer_consumer_ratio_average',\n",
       "       'http_producer_consumer_ratio_max', 'http_producer_consumer_ratio_min',\n",
       "       'dns_client_connection_count', 'dns_server_connection_count',\n",
       "       'dns_producer_consumer_ratio_average',\n",
       "       'dns_producer_consumer_ratio_max', 'dns_producer_consumer_ratio_min'],\n",
       "      dtype='object')"
      ]
     },
     "execution_count": 6,
     "metadata": {},
     "output_type": "execute_result"
    }
   ],
   "source": [
    "train.columns"
   ]
  },
  {
   "cell_type": "code",
   "execution_count": 10,
   "metadata": {},
   "outputs": [
    {
     "data": {
      "text/plain": [
       "GaussianAnomalyDetector(contamination=0.05, log_transform=True)"
      ]
     },
     "execution_count": 10,
     "metadata": {},
     "output_type": "execute_result"
    }
   ],
   "source": [
    "# Fit a Gaussian Anomaly Detector\n",
    "model = GaussianAnomalyDetector(contamination=0.05, log_transform=True)\n",
    "model.fit(train)"
   ]
  },
  {
   "cell_type": "code",
   "execution_count": 31,
   "metadata": {},
   "outputs": [],
   "source": [
    "# get predictions and reasons from the model\n",
    "zipped_list = list(zip(search.results.node_ip_address, search.results.start_time, model.predict(train), model.get_reason()))\n",
    "predictions = pd.DataFrame(zipped_list, columns=['ip', 'start_time', 'prediction', 'reason'])"
   ]
  },
  {
   "cell_type": "code",
   "execution_count": 33,
   "metadata": {},
   "outputs": [
    {
     "data": {
      "text/html": [
       "<div>\n",
       "<style scoped>\n",
       "    .dataframe tbody tr th:only-of-type {\n",
       "        vertical-align: middle;\n",
       "    }\n",
       "\n",
       "    .dataframe tbody tr th {\n",
       "        vertical-align: top;\n",
       "    }\n",
       "\n",
       "    .dataframe thead th {\n",
       "        text-align: right;\n",
       "    }\n",
       "</style>\n",
       "<table border=\"1\" class=\"dataframe\">\n",
       "  <thead>\n",
       "    <tr style=\"text-align: right;\">\n",
       "      <th></th>\n",
       "      <th>ip</th>\n",
       "      <th>start_time</th>\n",
       "      <th>prediction</th>\n",
       "      <th>reason</th>\n",
       "    </tr>\n",
       "  </thead>\n",
       "  <tbody>\n",
       "    <tr>\n",
       "      <td>148</td>\n",
       "      <td>192.168.53.158</td>\n",
       "      <td>2019-12-02 14:37:51.203000+00:00</td>\n",
       "      <td>1</td>\n",
       "      <td>http_producer_consumer_ratio_max</td>\n",
       "    </tr>\n",
       "    <tr>\n",
       "      <td>220</td>\n",
       "      <td>192.168.53.158</td>\n",
       "      <td>2019-12-02 12:38:34.586000+00:00</td>\n",
       "      <td>1</td>\n",
       "      <td>http_producer_consumer_ratio_max</td>\n",
       "    </tr>\n",
       "    <tr>\n",
       "      <td>225</td>\n",
       "      <td>192.168.53.158</td>\n",
       "      <td>2019-12-02 12:33:25.018000+00:00</td>\n",
       "      <td>1</td>\n",
       "      <td>dns_client_connection_count</td>\n",
       "    </tr>\n",
       "    <tr>\n",
       "      <td>243</td>\n",
       "      <td>192.168.53.158</td>\n",
       "      <td>2019-12-02 12:07:35.720000+00:00</td>\n",
       "      <td>1</td>\n",
       "      <td>dns_client_connection_count</td>\n",
       "    </tr>\n",
       "    <tr>\n",
       "      <td>261</td>\n",
       "      <td>192.168.53.158</td>\n",
       "      <td>2019-12-02 11:42:04.665000+00:00</td>\n",
       "      <td>1</td>\n",
       "      <td>dns_client_connection_count</td>\n",
       "    </tr>\n",
       "  </tbody>\n",
       "</table>\n",
       "</div>"
      ],
      "text/plain": [
       "                 ip                       start_time  prediction  \\\n",
       "148  192.168.53.158 2019-12-02 14:37:51.203000+00:00           1   \n",
       "220  192.168.53.158 2019-12-02 12:38:34.586000+00:00           1   \n",
       "225  192.168.53.158 2019-12-02 12:33:25.018000+00:00           1   \n",
       "243  192.168.53.158 2019-12-02 12:07:35.720000+00:00           1   \n",
       "261  192.168.53.158 2019-12-02 11:42:04.665000+00:00           1   \n",
       "\n",
       "                               reason  \n",
       "148  http_producer_consumer_ratio_max  \n",
       "220  http_producer_consumer_ratio_max  \n",
       "225       dns_client_connection_count  \n",
       "243       dns_client_connection_count  \n",
       "261       dns_client_connection_count  "
      ]
     },
     "execution_count": 33,
     "metadata": {},
     "output_type": "execute_result"
    }
   ],
   "source": [
    "# display anamolies\n",
    "predictions[predictions.prediction == 1].head()"
   ]
  },
  {
   "cell_type": "code",
   "execution_count": 40,
   "metadata": {},
   "outputs": [],
   "source": [
    "count_preds = predictions[['ip', 'prediction']].groupby('ip').sum()\n",
    "\n",
    "count_preds.reset_index(inplace=True)\n",
    "\n",
    "count_preds.columns = ['ip', 'anomalous_count']"
   ]
  },
  {
   "cell_type": "markdown",
   "metadata": {},
   "source": [
    "### Bar plot (Y-axis count of anomlies for a given IP, X-axis the IPs) "
   ]
  },
  {
   "cell_type": "code",
   "execution_count": 49,
   "metadata": {},
   "outputs": [
    {
     "data": {
      "text/plain": [
       "<matplotlib.axes._subplots.AxesSubplot at 0x1a1e8a1588>"
      ]
     },
     "execution_count": 49,
     "metadata": {},
     "output_type": "execute_result"
    },
    {
     "data": {
      "image/png": "[encoded data removed]",
      "text/plain": [
       "<Figure size 432x288 with 1 Axes>"
      ]
     },
     "metadata": {
      "needs_background": "light"
     },
     "output_type": "display_data"
    }
   ],
   "source": [
    "sns.set_palette(sns.color_palette(\"Set2\"))\n",
    "sns.barplot(count_preds.ip, count_preds.anomalous_count)"
   ]
  },
  {
   "cell_type": "code",
   "execution_count": null,
   "metadata": {},
   "outputs": [],
   "source": []
  }
 ],
 "metadata": {
  "kernelspec": {
   "display_name": "Python 3",
   "language": "python",
   "name": "python3"
  },
  "language_info": {
   "codemirror_mode": {
    "name": "ipython",
    "version": 3
   },
   "file_extension": ".py",
   "mimetype": "text/x-python",
   "name": "python",
   "nbconvert_exporter": "python",
   "pygments_lexer": "ipython3",
   "version": "3.6.9"
  }
 },
 "nbformat": 4,
 "nbformat_minor": 2
}
